{
 "cells": [
  {
   "cell_type": "markdown",
   "metadata": {
    "id": "nvnm3YqXF1et"
   },
   "source": [
    "\n",
    "# Problem Set 2 \n"
   ]
  },
  {
   "cell_type": "markdown",
   "metadata": {
    "id": "pK-9wPs4F1e1"
   },
   "source": [
    "**Name : `Amatya Sharma`** "
   ]
  },
  {
   "cell_type": "markdown",
   "metadata": {
    "id": "VWcIfKAnF1e3"
   },
   "source": [
    "**Roll-No : `17CS30042`** "
   ]
  },
  {
   "cell_type": "markdown",
   "metadata": {
    "id": "P8ITxsdeF1e4"
   },
   "source": [
    "**Dept : `CSE`** "
   ]
  },
  {
   "cell_type": "markdown",
   "metadata": {
    "id": "C-IFdWvrF1e5"
   },
   "source": [
    "**Mail-ID : `amatya65555@iitkgp.ac.in`** "
   ]
  },
  {
   "cell_type": "markdown",
   "metadata": {
    "id": "idj_n4-4F1e5"
   },
   "source": [
    "## Preamble\n",
    "Read and commented out.\n",
    "<!--To run and solve this assignment, one must have a working IPython Notebook installation. The easiest way to set it up for both Windows and Linux is to install [Anaconda](https://docs.anaconda.com/anaconda/install/). Then save this file to your computer, run Anaconda and choose this file in Anaconda's file explorer. Use `Python 3` version. Below statements assume that you have already followed these instructions. If you are new to Python or its scientific library, Numpy, there are some nice tutorials [here](https://www.learnpython.org/) and [here](http://www.scipy-lectures.org/).\n",
    "\n",
    "Put your solution into boxes marked with **`[double click here to add a solution]`** and press Ctr+Enter to render text. None of the parts of this assignment require use of a machine with a GPU. You may complete the assignment using your local machine or you may use Google Colaboratory.\n",
    "\n",
    "We highly encourage students to put down their answers to theoretical questions into corresponding cells below. However, if one does not know LaTeX (and would find it too hard to learn it), he/she can write it in pen-and-paper format and submit the scanned pdf. Note that the solutions to the programming problems should be submitted in the ipynb file itself.\n",
    "\n",
    "Submission instructions: Please upload your completed solution file to [KGP Moodle](https://kgpmoodle.iitkgp.ac.in/moodle/login/index.php) by the due date.-->"
   ]
  },
  {
   "cell_type": "markdown",
   "metadata": {
    "id": "EgHLWu4Iq0sH"
   },
   "source": [
    "### Problem 1: Gradient Descent Update Rule\n",
    "\n",
    "**Q1.1**: In learning neural networks, we typically minimize a loss function $\\mathcal{L}(w)$ with respect to the network parameters $w$. It is also important that we *regularize* the network to reduce overfitting. A simple and popular regularization strategy is to penalize some *norm* of $w$.\n",
    "\n",
    "Consider that we have $N$ examples $(x_1, y_1), (x_2, y_2), ..., (x_N, y_N)$ such that $x_i \\in \\mathbb{R}^d$ and $y_i \\in \\{-1, 1\\}, i = 1...N$. Also consider that we have at our disposal a single neuron. Let $w = [w_1, w_2, ..., w_d]^T$ be the weight vector and the output be given by $\\hat y_i = tanh(w.x_i)$. The loss function is given by: $\\sum_{i=1}^N l(y_i, \\hat y_i) + \\lambda \\|w\\|^2$ where $\\lambda$ is the weight of regularization. Derive the update rule for minimizing this loss using stochastic gradient descent with step size $\\eta$ when $l(y_i, \\hat y_i) = log_e(1 + exp(-y_i. \\hat y_i))$. In other words, at time $t+1$, express the new parameters $w_{t+1}$ in terms of the old parameters $w_t$. **[10 marks]**\n",
    "\n",
    " "
   ]
  },
  {
   "cell_type": "markdown",
   "metadata": {
    "id": "0d8SHS4hq5UR"
   },
   "source": [
    "## Sol1:\n",
    "***\n",
    "Update rule is given by :\n",
    "Hence the update rule now becomes,\n",
    "\n",
    "$$\n",
    "\\begin{align*}\n",
    "w_{t+1} &= w_{t} - \\eta \\left(\\frac{\\partial L'}{\\partial w}\\Large|_{w=w_t}\\right)\n",
    "\\end{align*}\n",
    "$$\n",
    "where; \n",
    "$$\n",
    "\\begin{align*}\n",
    "L' &= L(w) + \\lambda || w ||^2 \\\\\n",
    "\\implies \\frac{\\partial L'}{\\partial w} &= \\frac{\\partial L}{\\partial w} + 2\\lambda w \\\\\n",
    "&= \\frac{\\partial}{\\partial w}log_e(1 + exp(-y_i. \\hat y_i)) + 2\\lambda w\\\\\n",
    "&= \\frac{1}{1+e^{(-y_i. \\hat y_i)}}. e^{(-y_i. \\hat y_i)} . (-y_i) . \\frac{\\partial\\ tanh(w, x_i)}{\\partial w} + 2\\lambda w \\\\\n",
    "&= \\frac{-y_i}{e^{(y_i. \\hat y_i)}+1}. \\frac{\\partial\\ tanh(w, x_i)}{\\partial w}  + 2\\lambda w \\\\\n",
    "&= \\frac{-y_i}{e^{(y_i. \\hat y_i)}+1}.  (1-tanh^2(w, x_i)) . x_i + 2\\lambda w \\\\\n",
    "&= \\frac{-y_i . (1-\\hat y_i^2)}{e^{(y_i. \\hat y_i)}+1} . x_i + 2\\lambda w \\\\\n",
    "\\implies w_{t+1} &= w_{t} - \\eta \\left(\\frac{\\partial L'}{\\partial w}\\Large|_{w=w_t}\\right) \\\\\n",
    "&= w_{t} - \\eta \\left(\\frac{-y_i . (1-\\hat y_i^2)}{e^{(y_i. \\hat y_i)}+1} . x_i + 2\\lambda w_t \\right)\\\\\n",
    " &= w_{t}(1-2\\eta\\lambda) + \\eta \\left(\\frac{y_i . (1-\\hat y_i^2)}{e^{(y_i. \\hat y_i)}+1} . x_i\\right)\n",
    "\\end{align*}\n",
    "$$\n",
    "***"
   ]
  },
  {
   "cell_type": "markdown",
   "metadata": {
    "id": "SrvD5wLZInKB"
   },
   "source": [
    "### Problem 2: Numerical Overflow and Underflow"
   ]
  },
  {
   "cell_type": "markdown",
   "metadata": {
    "id": "CWVcuGP7CdMh"
   },
   "source": [
    "Run the cell below. Is the output the same as that you would expect? This is due to the condition which is called [numerical underflow](https://en.wikipedia.org/wiki/Arithmetic_underflow). It is the condition that occurs when the true result of a floating point operation is smaller in magnitude than the smallest value representable as a normal floating point number in the target datatype."
   ]
  },
  {
   "cell_type": "code",
   "execution_count": 3,
   "metadata": {
    "colab": {
     "base_uri": "https://localhost:8080/"
    },
    "id": "vrtvkkddFCJG",
    "outputId": "8afdf99b-5231-407f-d8b1-f526c5772181"
   },
   "outputs": [
    {
     "data": {
      "text/plain": [
       "True"
      ]
     },
     "execution_count": 3,
     "metadata": {
      "tags": []
     },
     "output_type": "execute_result"
    }
   ],
   "source": [
    "1e10+1e-10 == 1e10"
   ]
  },
  {
   "cell_type": "markdown",
   "metadata": {
    "id": "7LSxFiuOD0H9"
   },
   "source": [
    "Run the cell below. The warning message must have the word 'overflow' in it. This condition that occurs when a calculation produces a result that is greater in magnitude than the largest value representable in the target datatype is called [numerical overflow](https://en.wikipedia.org/wiki/Integer_overflow)."
   ]
  },
  {
   "cell_type": "code",
   "execution_count": 4,
   "metadata": {
    "colab": {
     "base_uri": "https://localhost:8080/"
    },
    "id": "wwPzQe4TD1zZ",
    "outputId": "d6cc711b-df0e-47b1-8f30-cbd502d1c587"
   },
   "outputs": [
    {
     "name": "stderr",
     "output_type": "stream",
     "text": [
      "/usr/local/lib/python3.6/dist-packages/ipykernel_launcher.py:2: RuntimeWarning: overflow encountered in exp\n",
      "  \n"
     ]
    },
    {
     "data": {
      "text/plain": [
       "True"
      ]
     },
     "execution_count": 4,
     "metadata": {
      "tags": []
     },
     "output_type": "execute_result"
    }
   ],
   "source": [
    "import numpy as np\n",
    "np.exp(1000) == np.inf"
   ]
  },
  {
   "cell_type": "markdown",
   "metadata": {
    "id": "NRUSbKitFLgl"
   },
   "source": [
    "**Q2.1**: How do people deal with numerical overflow and underflow? Why have we implemented $\\text{softplus}(x) = \\log(1+\\exp(x))$ as shown in the cell below? **[5 marks]**"
   ]
  },
  {
   "cell_type": "code",
   "execution_count": 5,
   "metadata": {
    "id": "tVfDG7dfF1e6"
   },
   "outputs": [],
   "source": [
    "import numpy as np\n",
    "\n",
    "def softplus(x_, limit=5):\n",
    "    x = np.array(x_)\n",
    "    compute_real_mask = np.logical_and(-limit < x, x < limit)\n",
    "    return_same_mask = x >= limit\n",
    "    computed_real_part = np.log(1 + np.exp(x*compute_real_mask)*compute_real_mask)\n",
    "    returned_same_part = x*return_same_mask\n",
    "    return computed_real_part + returned_same_part\n",
    "\n",
    "def test_softplus():\n",
    "    x_arr = np.linspace(-200, 200)\n",
    "    softplus_true = np.log(1 + np.exp(x_arr))\n",
    "    softplus_stable = softplus(x_arr)\n",
    "    assert np.max(abs(softplus_true-softplus_stable)) < 1e-3\n",
    "    \n",
    "test_softplus()"
   ]
  },
  {
   "cell_type": "markdown",
   "metadata": {
    "id": "CJrAwp1CF1e8"
   },
   "source": [
    "## Sol2.1\n",
    "***\n",
    "Softplus prevents overflow and underflow as it:\n",
    "<ol> \n",
    "    <li>Overflow : Checks for large values of $x\\ (x>limit)$ which are potential to blow up on exponentiation and create overflow (an infinite value). For such large $x$, the \"$+1$\" term can be neglected in our expression which gives us :\n",
    "        $$ log_e(1+e^x) \\approx log_e(e^x) = x \\ \\ \\  \\forall x \\gg limit$$\n",
    "    </li>\n",
    "    <li>Underflow :  For values very small enough i.e. $x<-limit$, the value of $e^x$ tends very close to $0$ and thus may return $NaN$ (acc. IEEE floating point convention). However true value should can be approximated to $0$ safely (which is done in softplus) :\n",
    "        $$ log_e(1+e^x) \\approx log_e(1) = 0 \\ \\ \\ \\forall x \\ll -limit $$\n",
    "    </li>\n",
    "</ol>\n",
    "\n",
    "$$\n",
    "$$\n",
    "***"
   ]
  },
  {
   "cell_type": "markdown",
   "metadata": {
    "id": "qcgYjUKKInKF"
   },
   "source": [
    "### Problem 3: Perceptron Learning Algorithm"
   ]
  },
  {
   "cell_type": "markdown",
   "metadata": {
    "id": "Fjlfmcp1InKI"
   },
   "source": [
    "**Q3.1**: The code below generates $n$ 2D data points according to the Gaussian distribution $X1 \\sim \\mathcal{N}([1,0],\\,I_{2\\times2})$ and assigns them label 1. It also generates another $n$ 2D data points according to the Gaussian distribution $X2 \\sim \\mathcal{N}([-1,0],\\,I_{2\\times2})$ and assigns them label -1.\n",
    "\n",
    "If perceptron learning algorithm is used to classify the data, will it converge? You may add a code cell to answer this question.   **[5 marks]**"
   ]
  },
  {
   "cell_type": "code",
   "execution_count": 6,
   "metadata": {
    "colab": {
     "base_uri": "https://localhost:8080/",
     "height": 279
    },
    "id": "4MA0OGWYInKI",
    "outputId": "89ffd696-feed-4ced-85bf-6a8802b7fdc1"
   },
   "outputs": [
    {
     "data": {
      "image/png": "[encoded data removed]",
      "text/plain": [
       "<Figure size 432x288 with 1 Axes>"
      ]
     },
     "metadata": {
      "needs_background": "light",
      "tags": []
     },
     "output_type": "display_data"
    }
   ],
   "source": [
    "import numpy as np\n",
    "import matplotlib.pyplot as plt\n",
    "np.random.seed(1)\n",
    "\n",
    "def generate_data(n):\n",
    "    '''Generate synthetic data'''\n",
    "    \n",
    "    X1 = np.random.multivariate_normal([1,0], [[1,0],[0,1]], n)\n",
    "    X2 = np.random.multivariate_normal([-1,0], [[1,0],[0,1]], n)    \n",
    "    X = np.vstack((X1, X2))\n",
    "    y1 = np.ones(n, dtype=int)\n",
    "    y2 = -np.ones(n, dtype=int)\n",
    "    y = np.concatenate((y1, y2))\n",
    "    \n",
    "    \n",
    "    # Aay's code :\n",
    "    plt.scatter(X1[:, 0], X1[:, 1], marker='.', label=\"N[1,0]\")\n",
    "    plt.scatter(X2[:, 0], X2[:, 1], marker='.', label=\"N[-1,0]\")\n",
    "    plt.xlabel(\"dim 0\")\n",
    "    plt.ylabel(\"dim 1\")\n",
    "    plt.legend()\n",
    "    plt.legend(title='index', bbox_to_anchor=(1.05, 1), loc='upper left')\n",
    "    plt.show()\n",
    "    \n",
    "    return X, y\n",
    "X_train, y_train = generate_data(100)"
   ]
  },
  {
   "cell_type": "markdown",
   "metadata": {
    "id": "o86p5lgtgqDF"
   },
   "source": [
    "## Sol3.1:\n",
    "***\n",
    "Plotted the data generate in the above code cell. The data isn't linearly separable, hence PLA won't converge. (Two Normal distributions can never be linearly separable)\n",
    "***"
   ]
  },
  {
   "cell_type": "markdown",
   "metadata": {
    "id": "icMuAi-Lr1CO"
   },
   "source": [
    "### Problem 4: Implementing Multilayer Perceptron and Backpropagation   **[30 marks]**"
   ]
  },
  {
   "cell_type": "markdown",
   "metadata": {
    "id": "KZFH3r5liLSz"
   },
   "source": [
    "In this problem, we will be using [MNIST dataset](http://yann.lecun.com/exdb/mnist/) of handwritten digits for classification task. A data folder that will be useful for doing this problem has been provided to you along with this notebook.\n",
    "\n",
    "Let us load the data first (it has been done for you)."
   ]
  },
  {
   "cell_type": "code",
   "execution_count": 7,
   "metadata": {
    "colab": {
     "base_uri": "https://localhost:8080/"
    },
    "id": "HdRodc2PhnEP",
    "outputId": "565f931d-0463-4425-c048-c192ed6ad4ac"
   },
   "outputs": [
    {
     "name": "stdout",
     "output_type": "stream",
     "text": [
      "Mounted at /content/drive\n"
     ]
    }
   ],
   "source": [
    "# from google.colab import drive\n",
    "# drive.mount('/content/drive')"
   ]
  },
  {
   "cell_type": "code",
   "execution_count": 8,
   "metadata": {
    "colab": {
     "base_uri": "https://localhost:8080/"
    },
    "id": "UKO-c29diLS0",
    "outputId": "bd4129b9-753a-4204-9b3d-33ddcb254862"
   },
   "outputs": [
    {
     "name": "stdout",
     "output_type": "stream",
     "text": [
      "Number of training examples: 60000\n",
      "Number of test examples: 10000\n"
     ]
    }
   ],
   "source": [
    "import numpy as np\n",
    "np.random.seed(0)\n",
    "\n",
    "## Load the training data from the data folder\n",
    "output_dim = 10\n",
    "x_train = np.load('./data/X_train.npy')\n",
    "x_train = x_train.flatten().reshape(-1,28*28)\n",
    "x_train = x_train / 255.0\n",
    "x_train = x_train.T\n",
    "gt_indices = np.load('./data/y_train.npy')\n",
    "train_length = x_train.shape[1]\n",
    "\n",
    "#creating one hot vector representation\n",
    "y_train = np.zeros((train_length, output_dim))\n",
    "for i in range(train_length):\n",
    "    y_train[i,gt_indices[i]] = 1\n",
    "y_train = y_train.T\n",
    "print(\"Number of training examples: {:d}\".format(train_length))\n",
    "\n",
    "## Loading the test data\n",
    "# /content/drive/MyDrive/Colab Notebooks/data\n",
    "\n",
    "# x_test = np.load('./data/X_test.npy')\n",
    "\n",
    "\n",
    "x_test = np.load('./data/X_test.npy')\n",
    "\n",
    "\n",
    "\n",
    "x_test = x_test.flatten().reshape(-1,28*28)\n",
    "x_test = x_test / 255.0\n",
    "x_test = x_test.T\n",
    "gt_indices = np.load('./data/y_test.npy')\n",
    "test_length = x_test.shape[1]\n",
    "\n",
    "#creating one hot vector representation\n",
    "y_test = np.zeros((test_length, output_dim))\n",
    "for i in range(test_length):\n",
    "    y_test[i,gt_indices[i]] = 1\n",
    "y_test = y_test.T\n",
    "print(\"Number of test examples: {:d}\".format(test_length))"
   ]
  },
  {
   "cell_type": "code",
   "execution_count": 9,
   "metadata": {
    "colab": {
     "base_uri": "https://localhost:8080/"
    },
    "id": "4E6vAjmUgqDH",
    "outputId": "b68f360d-d052-459b-b0ec-c4e4acbe18bb"
   },
   "outputs": [
    {
     "name": "stdout",
     "output_type": "stream",
     "text": [
      "(10, 60000) [[0. 1. 0. ... 0. 0. 0.]\n",
      " [0. 0. 0. ... 0. 0. 0.]\n",
      " [0. 0. 0. ... 0. 0. 0.]\n",
      " ...\n",
      " [0. 0. 0. ... 0. 0. 0.]\n",
      " [0. 0. 0. ... 0. 0. 1.]\n",
      " [0. 0. 0. ... 0. 0. 0.]]\n",
      "(10000,) [7 2 1 ... 4 5 6]\n"
     ]
    }
   ],
   "source": [
    "print(np.shape(y_train), y_train)\n",
    "print(np.shape(gt_indices), gt_indices)"
   ]
  },
  {
   "cell_type": "markdown",
   "metadata": {
    "id": "Cgce6j2MiLS1"
   },
   "source": [
    "This problem considers neural networks with multiple layers. Each layer has multiple inputs and outputs, and can be broken down into two parts:  \n",
    "\n",
    "A linear module that implements a linear transformation:     $ z_j = (\\sum^{m}_{i=1} x_i W_{i,j}) + {W_0}_j$  \n",
    "specified by a weight matrix $W$ and a bias vector $W_0$. The output is $[z_1, \\ldots, z_n]^T$\n",
    "\n",
    "An activation module that applies an activation function to the outputs of the linear module for some activation function $f$, such as Tanh or ReLU in the hidden layers or Softmax at the output layer. We write the output as: $[f(z_1), \\ldots, f(z_m)]^T$, although technically, for some activation functions such as softmax, each output will depend on all the $z_i$.\n",
    "\n",
    "We will use the following notation for quantities in a network:\n",
    "- Inputs to the network are $x_1,..., x_d$\n",
    "- Number of layers is $L$\n",
    "- There are $m^l$ inputs to layer $l$\n",
    "- There are $n^l = m^{l+1}$ outputs from layer $l$\n",
    "- The weight matrix for layer $l$ is $W^l$, an $m^l \\times n^l$ matrix, and the bias vector (offset) is $W_0^l$, an $n^l \\times 1$ vector\n",
    "- The outputs of the linear module for layer $l$ are known as pre-activation values and denoted $z^l$\n",
    "- The activation function at layer $l$ is $f^l(\\cdot)$\n",
    "- Layer $l$ activations are $a^l = [f^l(z^l_1), \\ldots, f^l(z^l_{n^l})]^T$\n",
    "- The output of the network is the values $a^L = [f^L(z^L_1), \\ldots, f^L(z^L_{n^L})]^T$\n",
    "- Loss function $Loss(a,y)$ measures the loss of output values $a$ when the target is $y$\n"
   ]
  },
  {
   "cell_type": "markdown",
   "metadata": {
    "id": "kRIPVRhviLS1"
   },
   "source": [
    "We'll use the modular implementation, which leads to clean code. The basic framework for SGD training is given below. We can construct a network and train it as follows:\n",
    "\n",
    "```\n",
    "# build a 3-layer network\n",
    "net = Sequential([Linear(2,3), Tanh(),\n",
    "                  Linear(3,3), Tanh(),\n",
    "    \t          Linear(3,2), SoftMax()])\n",
    "# train the network on data and labels\n",
    "net.sgd(x_train, y_train)\n",
    "```\n",
    "Please fill in any unimplemented methods below:"
   ]
  },
  {
   "cell_type": "markdown",
   "metadata": {
    "id": "cY3OEZWRiLS1"
   },
   "source": [
    "## Linear Modules: ##\n",
    "Each linear module has a forward method that takes in a batch of activations A (from the previous layer) and returns a batch of pre-activations Z; ; it can also store its input or output vectors for use by other methods (e.g., for subsequent backpropagation).\n",
    "\n",
    "$Z = W^T A + W_0$\n",
    "\n",
    "Each linear module has a backward method that takes in a column vector dLdZ and returns dLdA. This module also computes and stores dLdW and dLdW0, the gradients with respect to the weights.\n",
    "\n",
    "$\\frac{\\partial Loss}{\\partial A} = \\frac{\\partial Z}{\\partial A} \\frac{\\partial Loss}{\\partial Z}$ and similarly."
   ]
  },
  {
   "cell_type": "code",
   "execution_count": 10,
   "metadata": {
    "id": "HENTHEIPiLS1"
   },
   "outputs": [],
   "source": [
    "class Module:\n",
    "    def sgd_step(self, lrate): \n",
    "        pass # For modules without weights\n",
    "\n",
    "class Linear(Module):\n",
    "    def __init__(self, m, n):\n",
    "        self.m, self.n = (m, n)  # (in size, out size)\n",
    "        self.W0 = np.zeros([self.n, 1])  # (n x 1)\n",
    "        self.W = np.random.normal(0, 1.0 * m ** (-.5), [m, n])  # (m x n)\n",
    "\n",
    "    def forward(self, A):\n",
    "        self.A = A   # (m x b)  b is the batch size, which is 1 for SGD\n",
    "        # Aay's code:::::\n",
    "        W = self.W\n",
    "        W0 = self.W0\n",
    "        Wt = W.T\n",
    "        mtemp = Wt@A\n",
    "        return mtemp+W0  # (n x b)\n",
    "\n",
    "    def backward(self, dLdZ):  # dLdZ is (n x b), uses stored self.A\n",
    "        ## ! -- Aay's code :::::\n",
    "        A = self.A\n",
    "        W = self.W\n",
    "        W0 = self.W0\n",
    "        self.dLdW = (1/A.shape[1])*A@(dLdZ.T)       # (m x n)\n",
    "        self.dLdW0 = np.mean(dLdZ,axis=1).reshape(-1,1)      # (n x 1)\n",
    "        dLdA = W@dLdZ\n",
    "        return dLdA            # return dLdA (m x b)\n",
    "\n",
    "    def sgd_step(self, lrate):  # Gradient descent step\n",
    "        ## ! -- Aay's Code\n",
    "        self.W = self.W - lrate*self.dLdW           \n",
    "        self.W0 = self.W0 - lrate*self.dLdW0\n",
    "        "
   ]
  },
  {
   "cell_type": "markdown",
   "metadata": {
    "id": "_na1Jr-siLS2"
   },
   "source": [
    "## Activation functions: ##\n",
    "Activation modules don't have any weights and so they are simpler.\n",
    "\n",
    "Each activation module has a forward method that takes in a batch of pre-activations Z and returns a batch of activations A.\n",
    "\n",
    "Each activation module has a backward method that takes in dLdA and returns dLdZ, with the exception of SoftMax, where we assume dLdZ is passed in.\n",
    "\n",
    "$\\frac{\\partial Loss}{\\partial Z} = \\frac{\\partial Loss}{\\partial A} \\frac{\\partial A}{\\partial Z}$\n",
    "\n",
    "For Softmax = $SM(Z)$ at the output layer and cross entropy as the $Loss(A,Y)$ function, there is a [simple form](https://peterroelants.github.io/posts/cross-entropy-softmax/) for ${\\tt dLdZ} = \\frac{\\partial Loss}{\\partial Z}$; namely, it is the prediction error $A−Y$. "
   ]
  },
  {
   "cell_type": "markdown",
   "metadata": {
    "id": "9bY3HFGcHCkj"
   },
   "source": [
    "### Tanh: ###"
   ]
  },
  {
   "cell_type": "code",
   "execution_count": 11,
   "metadata": {
    "id": "dFD9yB38iLS3"
   },
   "outputs": [],
   "source": [
    "class Tanh(Module):            # Layer activation\n",
    "    def forward(self, Z):\n",
    "        self.A = np.tanh(Z)\n",
    "        return self.A # (n,b)\n",
    "\n",
    "    def backward(self, dLdA):    # Uses stored self.A\n",
    "        diagn = 1-np.multiply(self.A,self.A)\n",
    "        return diagn*dLdA  ## ! --Aay's code # return dLdZ (n, b)"
   ]
  },
  {
   "cell_type": "markdown",
   "metadata": {
    "id": "HkBAcTbyiLS3"
   },
   "source": [
    "### ReLU: ###"
   ]
  },
  {
   "cell_type": "code",
   "execution_count": 12,
   "metadata": {
    "id": "WNZgbM1ViLS3"
   },
   "outputs": [],
   "source": [
    "class ReLU(Module):              # Layer activation\n",
    "    def forward(self, Z):\n",
    "        self.A = np.maximum(0,Z)  ## ! -- Aay's Code  (n,b)   \n",
    "        return self.A # (n,b)\n",
    "\n",
    "    def backward(self, dLdA):    # uses stored self.A\n",
    "        dAdZ = dLdA\n",
    "        dAdZ[self.A == 0] = 0\n",
    "        return dAdZ # Aay's code #(n,b)"
   ]
  },
  {
   "cell_type": "markdown",
   "metadata": {
    "id": "8qVlW8SFiLS3"
   },
   "source": [
    "### SoftMax: ###\n",
    "For `SoftMax.class_fun()`, given the column vector of class probabilities for each point (computed by Softmax), return a vector of the classes (integers) with the highest probability for each point."
   ]
  },
  {
   "cell_type": "code",
   "execution_count": 13,
   "metadata": {
    "id": "6KrMWcgwiLS4"
   },
   "outputs": [],
   "source": [
    "class SoftMax(Module):           # Output activation\n",
    "    def forward(self, Z):\n",
    "        O = np.exp(Z-Z.max(0))   # subtract the largest value to prevent over&underflow\n",
    "        return O/O.sum(0)  ## ! -- Aay's code # (n, b)\n",
    "\n",
    "    def backward(self, dLdZ):    # Assume that dLdZ is passed in\n",
    "        return dLdZ\n",
    "\n",
    "    def class_fun(self, Ypred):  # Return class indices\n",
    "        class_ind = np.argmax(Ypred,axis = 0)\n",
    "        class_ind = class_ind.reshape([-1,class_ind.shape[0]])\n",
    "        return class_ind  ## ! -- Aay's code# (1, b)"
   ]
  },
  {
   "cell_type": "markdown",
   "metadata": {
    "id": "lzwrK1XsiLS4"
   },
   "source": [
    "## Loss Function:##\n",
    "Each loss module has a forward method that takes in a batch of predictions Ypred (from the previous layer) and labels Y and returns a scalar loss value.\n",
    "\n",
    "The CrossE module has a backward method that returns dLdZ, the gradient with respect to the preactivation to SoftMax (note: not the activation!), since we are always pairing SoftMax activation with Cross Entropy loss"
   ]
  },
  {
   "cell_type": "markdown",
   "metadata": {
    "id": "aTp5-_H6iLS5"
   },
   "source": [
    "### Cross Entropy: ###"
   ]
  },
  {
   "cell_type": "code",
   "execution_count": 14,
   "metadata": {
    "id": "E3t9-M8diLS5"
   },
   "outputs": [],
   "source": [
    "class CROSSE(Module):       # Loss\n",
    "    def forward(self, Ypred, Y):\n",
    "        self.Ypred = Ypred\n",
    "        self.Y = Y\n",
    "        lcross = np.multiply(Y, np.log(Ypred))\n",
    "        return -np.sum(lcross)  ## ! -- code required\n",
    "\n",
    "    def backward(self):  # Use stored self.Ypred, self.Y\n",
    "        return self.Ypred - self.Y  ## ! -- Aay's code"
   ]
  },
  {
   "cell_type": "markdown",
   "metadata": {
    "id": "2XrtkyTNiLS5"
   },
   "source": [
    "## Neural Network: ##"
   ]
  },
  {
   "cell_type": "markdown",
   "metadata": {
    "id": "5zFNsXNmiLS6"
   },
   "source": [
    "Implement SGD. Randomly pick a data point Xt, Yt by using np.random.randint to choose a random index into the data. Compute the predicted output Ypred for Xt with the forward method. Compute the loss for Ypred relative to Yt. Use the backward method to compute the gradients. Use the sgd_step method to change the weights. Repeat.\n",
    "\n",
    "Also, record the training accuracy after every 1000 iterations and plot it to show how the training accuracy changes with the number of iterations."
   ]
  },
  {
   "cell_type": "code",
   "execution_count": 15,
   "metadata": {
    "id": "JSPrY1tViLS6"
   },
   "outputs": [],
   "source": [
    "import matplotlib.pyplot as plt\n",
    "\n",
    "class Sequential:\n",
    "    def __init__(self, modules, loss):            # List of modules, loss module\n",
    "        self.modules = modules\n",
    "        self.loss = loss\n",
    "\n",
    "    def sgd(self, X, Y, iters=100, lrate=0.005):  # Train\n",
    "        D, N = X.shape\n",
    "        accuracies = [] # for plotting\n",
    "        itrns = [] # for plotting\n",
    "        for it in range(iters):\n",
    "            batch_size = 1 # twig this paaram to perform mini_batch gd\n",
    "            sampledt = np.random.randint(0,N-batch_size+1)\n",
    "            Xt = X[:,sampledt:sampledt+batch_size]\n",
    "            Yt = Y[:,sampledt:sampledt+batch_size]\n",
    "            \n",
    "            Ypred = self.forward( Xt)\n",
    "            loss = self.loss.forward(Ypred,Yt)\n",
    "            delta = self.loss.backward()\n",
    "            \n",
    "            self.backward(delta)\n",
    "            self.sgd_step(lrate)\n",
    "            if it % 1000 == 0 or it == iters-1:\n",
    "                acc = self.get_accuracy(X, Y)\n",
    "                accuracies.append(acc * 100)\n",
    "                itrns.append(it)\n",
    "                print('Iteration =', it, '\\tTraining Accuracy = %.2f%%' % (acc * 100))\n",
    "        ## ! -- Aay's code:::::\n",
    "        plt.plot(itrns, accuracies)\n",
    "        plt.xlabel(\"Iters\")\n",
    "        plt.ylabel(\"Acc\")\n",
    "        plt.show()\n",
    "        # plot accuracy vs iteration with appropriate labelling\n",
    "\n",
    "    def forward(self, Xt):                        # Compute Ypred\n",
    "        for m in self.modules: \n",
    "            Xt = m.forward(Xt)\n",
    "        return Xt\n",
    "\n",
    "    def backward(self, delta):                    # Update dLdW and dLdW0\n",
    "        # Note reversed list of modules\n",
    "        for m in self.modules[::-1]: \n",
    "            delta = m.backward(delta)\n",
    "\n",
    "    def sgd_step(self, lrate):                    # Gradient descent step\n",
    "        for m in self.modules: \n",
    "            m.sgd_step(lrate)\n",
    "\n",
    "    def get_accuracy(self, X, Y):\n",
    "        # Method to print accuracy\n",
    "        cf = self.modules[-1].class_fun\n",
    "        acc = np.mean(cf(self.forward(X)) == cf(Y))\n",
    "        return acc"
   ]
  },
  {
   "cell_type": "markdown",
   "metadata": {
    "id": "0OHGyeyJd1fu"
   },
   "source": [
    "Now, keeping the **number of hidden layers fixed at 2** and **learning rate fixed at 0.005** and the **number of iterations fixed at 17000**, try tuning the number of hidden units in each hidden layer as well as the activation function after every linear module. One example of a network having 30 hidden units in the first hidden layer followed by RELU activation and 20 in the second followed by Tanh activation is `nn = Sequential([Linear(input_dim, 30), ReLU(), Linear(30, 20), Tanh(), Linear(20,output_dim), SoftMax()], CROSSE())` "
   ]
  },
  {
   "cell_type": "code",
   "execution_count": 20,
   "metadata": {
    "colab": {
     "base_uri": "https://localhost:8080/",
     "height": 598
    },
    "id": "6fpO_iwyiLS6",
    "outputId": "72cde098-e327-4b34-e2df-eded1c0a2079",
    "scrolled": true
   },
   "outputs": [
    {
     "name": "stdout",
     "output_type": "stream",
     "text": [
      "Iteration = 0 \tTraining Accuracy = 9.44%\n",
      "Iteration = 1000 \tTraining Accuracy = 80.42%\n",
      "Iteration = 2000 \tTraining Accuracy = 84.88%\n",
      "Iteration = 3000 \tTraining Accuracy = 87.55%\n",
      "Iteration = 4000 \tTraining Accuracy = 89.59%\n",
      "Iteration = 5000 \tTraining Accuracy = 90.58%\n",
      "Iteration = 6000 \tTraining Accuracy = 86.41%\n",
      "Iteration = 7000 \tTraining Accuracy = 91.13%\n",
      "Iteration = 8000 \tTraining Accuracy = 91.81%\n",
      "Iteration = 9000 \tTraining Accuracy = 91.72%\n",
      "Iteration = 10000 \tTraining Accuracy = 92.72%\n",
      "Iteration = 11000 \tTraining Accuracy = 93.31%\n",
      "Iteration = 12000 \tTraining Accuracy = 92.66%\n",
      "Iteration = 13000 \tTraining Accuracy = 93.18%\n",
      "Iteration = 14000 \tTraining Accuracy = 93.31%\n",
      "Iteration = 15000 \tTraining Accuracy = 93.86%\n",
      "Iteration = 16000 \tTraining Accuracy = 94.25%\n",
      "Iteration = 16999 \tTraining Accuracy = 94.47%\n"
     ]
    },
    {
     "data": {
      "image/png": "[encoded data removed]",
      "text/plain": [
       "<Figure size 432x288 with 1 Axes>"
      ]
     },
     "metadata": {
      "needs_background": "light",
      "tags": []
     },
     "output_type": "display_data"
    },
    {
     "name": "stdout",
     "output_type": "stream",
     "text": [
      "Test Acc = 0.9423\n"
     ]
    }
   ],
   "source": [
    "input_dim = 784  # input dimension\n",
    "## ! -- Aay's code::::\n",
    "nn = Sequential([Linear(input_dim, 2000), ReLU(), \n",
    "                 Linear(2000, 1000), ReLU(),      \n",
    "                 Linear(1000,output_dim), SoftMax()], \n",
    "                CROSSE())\n",
    "\n",
    "nn.sgd(x_train, y_train, iters=17000, lrate=0.005)\n",
    "test_acc = nn.get_accuracy(x_test, y_test)\n",
    "print('Test Acc =', test_acc)"
   ]
  },
  {
   "cell_type": "markdown",
   "metadata": {
    "id": "fYRFiDc-gqDO"
   },
   "source": [
    "## Top 10 test accuracies and Models::\n",
    "###### Note :: Final output layer is always softmax in all cases.\n",
    "\n",
    "</br></br></br>\n",
    "#### Experiments with Learning Rate = .005, BatchSize = 1, Layers = 2:-\n",
    "|S.No.|Model|Test Accuracy|\n",
    "|--------|---|---|\n",
    "|1| 784-2000-1000-10 (all ReLU) | 94.23% |\n",
    "|2| 784-1500-500-10 (all ReLU) | 94.12% |\n",
    "|3| 784-400-400-10 (all ReLU) | 93.8% |\n",
    "|4| 784-(ReLU)-2000-(Tanh)-1000-(SoftMax)-10 | 93.77% |\n",
    "|5| 784-(ReLU)-1500-(Tanh)-500-(SoftMax)-10 | 93.75% |\n",
    "|6| 784-(ReLU)-400-(Tanh)-400-(SoftMax)-10 | 93.23% |\n",
    "|7| 784-524-262-10 (all ReLU) | 93.21% |\n",
    "|8| 784-300-100-10 (all ReLU) | 93.16% |\n",
    "\n",
    "\n",
    "\n",
    "\n",
    "\n",
    "#### Some Extra Experiments :-\n",
    "|S.No.|Model|Test Accuracy|Batch Size|Learning Rate|\n",
    "|--------|---|---|---|---|\n",
    "|1| 784-2500-2000-1500-1000-500-10 (all ReLU) | 95.2% |1|0.002|\n",
    "|2| 784-500-2000-30-30-10 (all ReLU) | 94.54%|10|0.002|\n",
    "|3| 784-(ReLU)-2500-(Tanh)-2000-(ReLU)-1500-(Tanh)-1000-(ReLU)-500-(Softmax)-10 | 93.77% |1|0.002|\n",
    "|4| 784-300-100-10 (all ReLU) | 93.16% |1|0.005|\n",
    "|5| 784-(ReLU)-500-(Tanh)-300-(Softmax)-10 | 92.59% |1|0.005|\n",
    "|6| 784-(ReLU)-100-(Tanh)-100-(Tanh)-50-(Tanh)-50-(ReLU)-50-(Softmax)-10 | 92.54% |1|0.005|\n",
    "|7| 784-200-100-50-25-10 (all ReLU) | 92.38% |1|0.002|\n",
    "|8| 784-50-50-50-10 (all ReLU) | 92.35% |1|0.005|\n"
   ]
  },
  {
   "cell_type": "markdown",
   "metadata": {
    "id": "DmJ4TaVBF1fL"
   },
   "source": [
    ".\n",
    "\n",
    ".\n",
    "\n",
    ".\n",
    "\n",
    "Wow, you made it this far. That is impressive. Congratulations!"
   ]
  }
 ],
 "metadata": {
  "anaconda-cloud": {},
  "colab": {
   "collapsed_sections": [],
   "name": "Problem_Set_02_17CS30042_Run9547.ipynb",
   "provenance": []
  },
  "kernelspec": {
   "display_name": "Python 3",
   "language": "python",
   "name": "python3"
  },
  "language_info": {
   "codemirror_mode": {
    "name": "ipython",
    "version": 3
   },
   "file_extension": ".py",
   "mimetype": "text/x-python",
   "name": "python",
   "nbconvert_exporter": "python",
   "pygments_lexer": "ipython3",
   "version": "3.7.3"
  }
 },
 "nbformat": 4,
 "nbformat_minor": 1
}
